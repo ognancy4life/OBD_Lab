{
 "cells": [
  {
   "cell_type": "markdown",
   "metadata": {},
   "source": [
    "## Ocean Biogeochemical Dynamics Lab, Spring 2021\n",
    "Doing CO2SYS Calculations with SOCCOM floats by Nancy Williams\n",
    "\n",
    "This assumes you have already become familiar with `OBD_SOCCOM_L3.ipynb` notebook\n",
    "\n",
    "This code covers importing, cleaning, and plotting data from a single SOCCOM float in the Southern Ocean as well as CO2SYS calculations. \n",
    "\n",
    "SOCCOM website: https://soccom.princeton.edu/"
   ]
  },
  {
   "cell_type": "code",
   "execution_count": null,
   "metadata": {},
   "outputs": [],
   "source": [
    "import numpy as np\n",
    "import pandas as pd\n",
    "import matplotlib.pyplot as plt\n",
    "import matplotlib.path as mpath\n",
    "import seaborn as sns # this will change the look of pandas plots, too\n",
    "import cartopy.crs as ccrs\n",
    "import cartopy.feature\n",
    "import seawater\n",
    "import xarray as xr\n",
    "from PyCO2SYS.api import CO2SYS_wrap as co2sys\n",
    "import os\n",
    "%matplotlib inline \n",
    "%config InlineBackend.figure_format = 'retina'\n",
    "plt.rcParams['figure.figsize'] = (15,9)\n",
    "plt.rcParams['font.size'] = 18\n",
    "#plt.rcParams['lines.linewidth'] = 3\n",
    "# this forces matplotlib to print figures out here when you make plots\n",
    "from IPython.display import Image\n",
    "\n",
    "# Press Shift + Enter to \"run\" this cell and move on to the next one "
   ]
  },
  {
   "cell_type": "code",
   "execution_count": null,
   "metadata": {},
   "outputs": [],
   "source": [
    "# Define the directory where you want the figures to be saved\n",
    "output_dir = 'generated/'"
   ]
  },
  {
   "cell_type": "markdown",
   "metadata": {},
   "source": [
    "# Importing the dataset\n",
    "We want to use Pandas' built-in read_csv function to import a single float data file into a pandas data frame called `flt`. Float 9254 is a good example float, but you can pick any float from the snapshot. To pick another float you can go to the SOCCOM web page sensor status table http://soccom.ucsd.edu/floats/SOCCOM_sensor_stats.html and choose a float with lots of good data (i.e., more in the \"#g\" column than the \"#b\" columns for variables you're interested in analyzing. You can sort the columns on that webpage by clicking on the column header by which you wish to sort."
   ]
  },
  {
   "cell_type": "code",
   "execution_count": null,
   "metadata": {},
   "outputs": [],
   "source": [
    "# Pick a float\n",
    "floatnum='9091' \n",
    "floatpath='SOCCOM_LoResQC_LIAR_22Dec2020_odvtxt/' # This is the folder where all the float data live\n",
    "floatsuffix='SOOCNQC.TXT' # all of the Southern Ocean floats have the same suffix"
   ]
  },
  {
   "cell_type": "code",
   "execution_count": null,
   "metadata": {},
   "outputs": [],
   "source": [
    "# Change // comment symbols to #\n",
    "# input file\n",
    "fin = open(floatpath+floatnum+floatsuffix,'rt',encoding='UTF-8')\n",
    "\n",
    "# output file to which we will write the result\n",
    "fout = open('fltrem.txt','wt')\n",
    "\n",
    "# this is a for loop\n",
    "# for each line in the input file\n",
    "for line in fin:\n",
    "    # red and replace the string and write to the output file\n",
    "    fout.write(line.replace('//','#'))\n",
    "# close the files\n",
    "fin.close()\n",
    "fout.close()"
   ]
  },
  {
   "cell_type": "code",
   "execution_count": null,
   "metadata": {},
   "outputs": [],
   "source": [
    "flt=pd.read_csv('fltrem.txt',delimiter='\\t',comment='#',na_values=-1E10)\n",
    "flt['date']=pd.to_datetime(flt['mon/day/yr']+' '+ flt['hh:mm'])"
   ]
  },
  {
   "cell_type": "code",
   "execution_count": null,
   "metadata": {},
   "outputs": [],
   "source": [
    "# Loop through all Quality Flag columns and apply them to the preceeding columns\n",
    "from re import search\n",
    "for column in range(len(flt.columns)):\n",
    "    name=flt.columns[column]\n",
    "    if search('QF',name): # if the column is a QF column, apply it to the preceeding column, otherwise go on to next column\n",
    "        var=flt.columns[column-1]\n",
    "        flt[var] = np.where(flt.iloc[:,flt.columns.get_loc(var)+1] == 0,flt[var], np.nan)"
   ]
  },
  {
   "cell_type": "markdown",
   "metadata": {},
   "source": [
    "# Mapping your data\n",
    "It's always a good idea to map your data and make sure it is where you think it is. Here we will use cartopy (basemap is deprecated).\n",
    "\n",
    "Since we're talking about the Southern Ocean and there are stark fronts, it's good to plot your data in relation to these fronts. The climatological locations of the fronts are available from Orsi et al. (1995) https://www.sciencedirect.com/science/article/pii/096706379500021W. Text files containing the locations of the fronts are located in the \"fronts\" folder.\n",
    "\n",
    "### Where is your float in relation to the fronts of the ACC?\n",
    "The following code imports the longitudes and latitudes of the five fronts. There are some '%' values in the files which creates breaks in the fronts. If we did not keep these breaks, the fronts would plot across continents."
   ]
  },
  {
   "cell_type": "code",
   "execution_count": null,
   "metadata": {},
   "outputs": [],
   "source": [
    "stf=pd.read_csv('fronts/stf.txt',header=None,sep='\\s+',na_values='%', names=['lon','lat'])\n",
    "saf=pd.read_csv('fronts/saf.txt',header=None,sep='\\s+',na_values='%', names=['lon','lat'])\n",
    "pf=pd.read_csv('fronts/pf.txt',header=None,sep='\\s+',na_values='%', names=['lon','lat'])\n",
    "saccf=pd.read_csv('fronts/saccf.txt',header=None,sep='\\s+',na_values='%', names=['lon','lat'])\n",
    "sbdy=pd.read_csv('fronts/sbdy.txt',header=None,sep='\\s+',na_values='%', names=['lon','lat'])"
   ]
  },
  {
   "cell_type": "markdown",
   "metadata": {},
   "source": [
    "### Cartopy\n",
    "The following is an example of a South Polar Stereographic map using Cartopy https://scitools.org.uk/cartopy/docs/latest/#. Polar stereographic maps are always a bit more complicated because you have to translate your coordinates to polar coordinates."
   ]
  },
  {
   "cell_type": "code",
   "execution_count": null,
   "metadata": {},
   "outputs": [],
   "source": [
    "plt.figure(figsize=(6, 6))\n",
    "ax = plt.axes(projection=ccrs.SouthPolarStereo())\n",
    "ax.set_extent([-180,180,-90,-30],ccrs.PlateCarree())\n",
    "ax.add_feature(cartopy.feature.LAND)\n",
    "ax.add_feature(cartopy.feature.OCEAN)\n",
    "ax.gridlines()\n",
    "\n",
    "# Compute a circle in axes coordinates, which we can use as a boundary\n",
    "# for the map. We can pan/zoom as much as we like - the boundary will be\n",
    "# permanently circular.\n",
    "theta = np.linspace(0, 2*np.pi, 100)\n",
    "center, radius = [0.5, 0.5], 0.5\n",
    "verts = np.vstack([np.sin(theta), np.cos(theta)]).T\n",
    "circle = mpath.Path(verts * radius + center)\n",
    "\n",
    "ax.set_boundary(circle, transform=ax.transAxes)\n",
    "plt.plot(stf['lon'],stf['lat'],color='Red',transform=ccrs.PlateCarree())\n",
    "plt.plot(saf['lon'],saf['lat'],color='Orange',transform=ccrs.PlateCarree())\n",
    "plt.plot(pf['lon'],pf['lat'],color='Yellow',transform=ccrs.PlateCarree())\n",
    "plt.plot(saccf['lon'],saccf['lat'],color='Green',transform=ccrs.PlateCarree())\n",
    "plt.plot(sbdy['lon'],sbdy['lat'],color='Blue',transform=ccrs.PlateCarree())\n",
    "\n",
    "plt.scatter(flt['Lon [°E]'],flt['Lat [°N]'],color='Black',transform=ccrs.PlateCarree(), s=1)\n",
    "plt.savefig(output_dir+'F'+floatnum+'map.png') \n",
    "plt.savefig(output_dir+'F'+floatnum+'map.jpg') # Changing the suffix will change the format\n",
    "plt.show()\n"
   ]
  },
  {
   "cell_type": "code",
   "execution_count": null,
   "metadata": {},
   "outputs": [],
   "source": [
    "# Calculate MLD for each station\n",
    "MLD=[]\n",
    "for station in flt['Station'].unique():\n",
    "    surfacedens=flt['Sigma_theta[kg/m^3]'].loc[(flt['Station']==station)].min()\n",
    "    MLD.append([station,flt['date'].loc[(flt['Station']==station)&(flt['Sigma_theta[kg/m^3]']-surfacedens>0.03)].min(),\n",
    "                flt['Depth[m]'].loc[(flt['Station']==station)&(flt['Sigma_theta[kg/m^3]']-surfacedens>0.03)].min(),\n",
    "              flt['Lon [°E]'].loc[(flt['Station']==station)].mean(),\n",
    "              flt['Lat [°N]'].loc[(flt['Station']==station)].mean()])\n",
    "\n",
    "# Take a look at MLD. First column is the Station, second column is datenum, second column is the MLD\n",
    "MLD = pd.DataFrame(data=MLD, columns=['Station', 'date', 'MLD','Lon [°E]','Lat [°N]'])"
   ]
  },
  {
   "cell_type": "markdown",
   "metadata": {},
   "source": [
    "## Do some CO2SYS calculations using Pyco2"
   ]
  },
  {
   "cell_type": "code",
   "execution_count": null,
   "metadata": {},
   "outputs": [],
   "source": [
    "# Do an example\n",
    "# Call with defaults\n",
    "df1 = co2sys(dic=2103, alk=2360)\n",
    "\n",
    "# The above is equivalent to:\n",
    "df1 = co2sys(\n",
    "    dic=2103, alk=2360, pco2=None, fco2=None, pH=None,\n",
    "    carb=None, bicarb=None, co2aq=None,\n",
    "    temp_in=25, temp_out=25, pres_in=0, pres_out=0,\n",
    "    sal=35, si=0, po4=0, nh3=0, h2s=0,\n",
    "    K1K2_constants=4, KSO4_constants=1, KF_constant=1, pHscale_in=1,\n",
    "    buffers_mode=\"auto\", verbose=True)"
   ]
  },
  {
   "cell_type": "code",
   "execution_count": null,
   "metadata": {},
   "outputs": [],
   "source": [
    "df1 = co2sys(\n",
    "    pH=flt['pHinsitu[Total]'], alk=flt['TALK_LIAR[µmol/kg]'],\n",
    "    temp_in=flt['Temperature[°C]'], temp_out=flt['Temperature[°C]'],\n",
    "    pres_in=flt['Pressure[dbar]'], pres_out=flt['Pressure[dbar]'],\n",
    "    sal=flt['Salinity[pss]'], si=0, po4=0, nh3=0, h2s=0,\n",
    "    K1K2_constants=10, KSO4_constants=1, KF_constant=1, pHscale_in=1,\n",
    "    buffers_mode=\"auto\", verbose=True)\n",
    "\n",
    "df1"
   ]
  },
  {
   "cell_type": "code",
   "execution_count": null,
   "metadata": {},
   "outputs": [],
   "source": [
    "flt['OmegaAr']=df1['OmegaARout']\n",
    "flt"
   ]
  },
  {
   "cell_type": "code",
   "execution_count": null,
   "metadata": {},
   "outputs": [],
   "source": [
    "# Next look at the saturation state of aragonite (Omega_Ar) you calculated\n",
    "# First, set the depth to which you wish to plot and keep it the same for subsequent plots\n",
    "depth=MLD['MLD'].max()+50 #plot to depth of mixed layer plus some number of m\n",
    "\n",
    "var='OmegaAr'\n",
    "fig = plt.figure(num=None, figsize=(16,3), dpi=80, facecolor='w', edgecolor='k')\n",
    "ax = fig.add_axes([0.1, 0.1, .8, .8])\n",
    "sc=ax.scatter(flt['date'],flt['Depth[m]'],c=flt[var],cmap = 'RdBu')\n",
    "ax.plot(MLD['date'],MLD['MLD'],c='magenta')\n",
    "ax.invert_yaxis()\n",
    "ax.set_title('Float '+floatnum)\n",
    "ax.set_ylim([depth,0])\n",
    "cb=plt.colorbar(sc)\n",
    "cb.set_label(var)\n",
    "# automatically adjusts the colorbar based on the range of values youre plotting\n",
    "sc.set_clim(vmin = flt[var].loc[(flt['Depth[m]']<depth)].min(), \n",
    "            vmax = flt[var].loc[(flt['Depth[m]']<depth)].max()) \n",
    "fig.savefig(output_dir+'F'+floatnum+var[0:3]+'section.png', dpi = 200, bbox_inches='tight')"
   ]
  },
  {
   "cell_type": "markdown",
   "metadata": {},
   "source": [
    "## Make a time series plot of average top 30 m observations\n",
    "Here we use the pandas groupby function to group the near-surface data by station.\n",
    "https://pandas.pydata.org/pandas-docs/stable/reference/api/pandas.DataFrame.groupby.html"
   ]
  },
  {
   "cell_type": "code",
   "execution_count": null,
   "metadata": {},
   "outputs": [],
   "source": [
    "# Need to work on this loop to use actual MLD instead of 30 m for averaging\n",
    "#fltSurf=pd.DataFrame()\n",
    "#for station in MLD['Station'].unique():\n",
    "#    stationMLD=MLD['MLD'].loc[(MLD['Station']==station)]\n",
    "#    mask=flt.loc[(flt['Station']==station),(flt['Pressure[dbar]']<stationMLD)]\n",
    "#    fltSurf=fltSurf.append(flt[mask])"
   ]
  },
  {
   "cell_type": "code",
   "execution_count": null,
   "metadata": {},
   "outputs": [],
   "source": [
    "fltSurf=flt.loc[(flt['Pressure[dbar]']<30)]\n",
    "fltSurfByStn=fltSurf.groupby('Station').mean()"
   ]
  },
  {
   "cell_type": "code",
   "execution_count": null,
   "metadata": {},
   "outputs": [],
   "source": [
    "# Groupby doesn't work on datetime column so it was dropped. We need to make a datetime array to be used with plotting\n",
    "fltdates=[]\n",
    "for station in flt['Station'].unique():\n",
    "    fltdates.append([flt['date'].loc[(flt['Station']==station)].min()])\n",
    "len(fltdates)"
   ]
  },
  {
   "cell_type": "code",
   "execution_count": null,
   "metadata": {},
   "outputs": [],
   "source": [
    "# Unfortunately, sometimes the fltdates is 1 row longer than the groupby file. \n",
    "# Not sure how/why this happened but for now, we will just assume that \n",
    "# there is an extra date somewhere and drop the final date.\n",
    "# Need to fix this later. It might lead to a 10-day error in the dates\n",
    "if len(fltdates)>len(fltSurfByStn):\n",
    "    fltdates.pop()# pop \"pops off\" the last value"
   ]
  },
  {
   "cell_type": "code",
   "execution_count": null,
   "metadata": {},
   "outputs": [],
   "source": [
    "# Make a big plot with subplots\n",
    "fig,axes = plt.subplots(nrows = 7, ncols = 1,figsize=(15,25))\n",
    "import matplotlib.dates as mdates\n",
    "\n",
    "years = mdates.YearLocator()   # every year\n",
    "months = mdates.MonthLocator()  # every month\n",
    "years_fmt = mdates.DateFormatter('%Y')\n",
    "\n",
    "var='Temperature[°C]'\n",
    "axes[0].plot(fltdates,fltSurfByStn[var])\n",
    "axes[0].set_ylabel(var)\n",
    "axes[0].set_xlim(fltdates[0],fltdates[-1])\n",
    "# format the ticks\n",
    "axes[0].xaxis.set_major_locator(years)\n",
    "axes[0].xaxis.set_major_formatter(years_fmt)\n",
    "axes[0].xaxis.set_minor_locator(months)\n",
    "\n",
    "var='Salinity[pss]'\n",
    "axes[1].plot(fltdates,fltSurfByStn[var])\n",
    "axes[1].set_ylabel(var)\n",
    "axes[1].set_xlim(fltdates[0],fltdates[-1])\n",
    "axes[1].xaxis.set_major_locator(years)\n",
    "axes[1].xaxis.set_major_formatter(years_fmt)\n",
    "axes[1].xaxis.set_minor_locator(months)\n",
    "\n",
    "var='OmegaAr'\n",
    "axes[2].plot(fltdates,fltSurfByStn[var])\n",
    "axes[2].set_ylabel(var)\n",
    "axes[2].set_xlim(fltdates[0],fltdates[-1])\n",
    "axes[2].xaxis.set_major_locator(years)\n",
    "axes[2].xaxis.set_major_formatter(years_fmt)\n",
    "axes[2].xaxis.set_minor_locator(months)\n",
    "\n",
    "var='TALK_LIAR[µmol/kg]'\n",
    "axes[3].plot(fltdates,fltSurfByStn[var])\n",
    "axes[3].set_ylabel(var)\n",
    "axes[3].set_xlim(fltdates[0],fltdates[-1])\n",
    "axes[3].xaxis.set_major_locator(years)\n",
    "axes[3].xaxis.set_major_formatter(years_fmt)\n",
    "axes[3].xaxis.set_minor_locator(months)\n",
    "\n",
    "var='pHinsitu[Total]'\n",
    "axes[4].plot(fltdates,fltSurfByStn[var])\n",
    "axes[4].set_ylabel(var)\n",
    "axes[4].set_xlim(fltdates[0],fltdates[-1])\n",
    "axes[4].xaxis.set_major_locator(years)\n",
    "axes[4].xaxis.set_major_formatter(years_fmt)\n",
    "axes[4].xaxis.set_minor_locator(months)\n",
    "\n",
    "var='pCO2_LIAR[µatm]'\n",
    "axes[5].plot(fltdates,fltSurfByStn[var])\n",
    "axes[5].set_ylabel(var)\n",
    "axes[5].set_xlim(fltdates[0],fltdates[-1])\n",
    "axes[5].xaxis.set_major_locator(years)\n",
    "axes[5].xaxis.set_major_formatter(years_fmt)\n",
    "axes[5].xaxis.set_minor_locator(months)\n",
    "\n",
    "var='MLD'\n",
    "axes[6].plot(MLD['date'],MLD['MLD'])\n",
    "axes[6].set_ylabel(var)\n",
    "axes[6].set_xlim(fltdates[0],fltdates[-1])\n",
    "axes[6].xaxis.set_major_locator(years)\n",
    "axes[6].xaxis.set_major_formatter(years_fmt)\n",
    "axes[6].xaxis.set_minor_locator(months)\n",
    "\n",
    "axes[0].set_title('Float '+floatnum)\n",
    "# This is the first figure we're saving. We have given it a name, a type, and a dpi or\n",
    "# dots per inch which is resolution\n",
    "fig.savefig(output_dir+'F'+floatnum+'CO2SYS.png', dpi = 200, bbox_inches='tight')"
   ]
  },
  {
   "cell_type": "code",
   "execution_count": null,
   "metadata": {},
   "outputs": [],
   "source": []
  }
 ],
 "metadata": {
  "kernelspec": {
   "display_name": "Python 3",
   "language": "python",
   "name": "python3"
  },
  "language_info": {
   "codemirror_mode": {
    "name": "ipython",
    "version": 3
   },
   "file_extension": ".py",
   "mimetype": "text/x-python",
   "name": "python",
   "nbconvert_exporter": "python",
   "pygments_lexer": "ipython3",
   "version": "3.8.5"
  }
 },
 "nbformat": 4,
 "nbformat_minor": 4
}
