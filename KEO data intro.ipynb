{
 "cells": [
  {
   "cell_type": "markdown",
   "metadata": {},
   "source": [
    "# KEO data example\n",
    "Created by Sophie Chu, NOAA PMEL, modified by Nancy Williams, USF CMS for use with Ocean Biogeochemical Dynamics Lab course\n",
    "- Downloading data via url\n",
    "- Creating a dataframe using pandas\n",
    "- Calculating monthly means and standard deviations\n",
    "- Plotting using matplotlib\n",
    "- Decomposing pCO2 seasonality into thermal and nonthermal components"
   ]
  },
  {
   "cell_type": "code",
   "execution_count": null,
   "metadata": {},
   "outputs": [],
   "source": [
    "# import libraries needed for this analysis\n",
    "\n",
    "import pandas as pd\n",
    "import numpy as np\n",
    "import matplotlib.pyplot as plt\n",
    "import requests"
   ]
  },
  {
   "cell_type": "code",
   "execution_count": null,
   "metadata": {},
   "outputs": [],
   "source": [
    "# function for data download via url\n",
    "\n",
    "def download_url(url):\n",
    "  print(\"downloading: \",url)\n",
    "  # assumes that the last segment after the / represents the file name\n",
    "  # if url is abc/xyz/file.txt, the file name will be file.txt\n",
    "  file_name_start_pos = url.rfind(\"/\") + 1\n",
    "  file_name = url[file_name_start_pos:]\n",
    " \n",
    "  r = requests.get(url, stream=True)\n",
    "  if r.status_code == requests.codes.ok:\n",
    "    with open(file_name, 'wb') as f:\n",
    "      for data in r:\n",
    "        f.write(data)"
   ]
  },
  {
   "cell_type": "code",
   "execution_count": null,
   "metadata": {},
   "outputs": [],
   "source": [
    "# uses above function to download data via url and save file\n",
    "\n",
    "download_url(\"https://www.pmel.noaa.gov/co2/timeseries/KEO.txt\")"
   ]
  },
  {
   "cell_type": "code",
   "execution_count": null,
   "metadata": {},
   "outputs": [],
   "source": [
    "# read text file into dataframe\n",
    "keo = pd.read_table('KEO.txt', delim_whitespace=True, comment ='#', header=0,\n",
    "                       names=('date','time', 'SST', 'SSS', 'pCO2_sw', 'pCO2_air', 'xCO2_air', 'pH_sw'))"
   ]
  },
  {
   "cell_type": "code",
   "execution_count": null,
   "metadata": {
    "scrolled": true
   },
   "outputs": [],
   "source": [
    "# take a quick look at the beginning and end of the dataframe\n",
    "keo.head"
   ]
  },
  {
   "cell_type": "code",
   "execution_count": null,
   "metadata": {},
   "outputs": [],
   "source": [
    "keo"
   ]
  },
  {
   "cell_type": "code",
   "execution_count": null,
   "metadata": {},
   "outputs": [],
   "source": [
    "# function to define data time as index and add depth and month columns\n",
    "\n",
    "def surfdf (_df, date, time, dpth):\n",
    "    _df['datetime64_ns'] = pd.to_datetime(_df.date+ ' ' + _df.time) # combine date and time into one column\n",
    "    _df.index = _df.datetime64_ns # set datetime column as index\n",
    "    _df['Depth'] = dpth # add depth of surface measurements as column\n",
    "    _df['month'] = _df['datetime64_ns'].dt.month.values #make month column\n",
    "    \n",
    "    return _df\n",
    "\n",
    "# apply function to dataframe\n",
    "\n",
    "df_keo = surfdf(keo, keo.date, keo.time, 0.5)"
   ]
  },
  {
   "cell_type": "code",
   "execution_count": null,
   "metadata": {},
   "outputs": [],
   "source": [
    "# take a quick look at the beginning and end of the new dataframe\n",
    "\n",
    "df_keo.head"
   ]
  },
  {
   "cell_type": "code",
   "execution_count": null,
   "metadata": {},
   "outputs": [],
   "source": [
    "df_keo"
   ]
  },
  {
   "cell_type": "code",
   "execution_count": null,
   "metadata": {},
   "outputs": [],
   "source": [
    "# take a quick look at the different data types of variables in the data frame\n",
    "df_keo.dtypes"
   ]
  },
  {
   "cell_type": "code",
   "execution_count": null,
   "metadata": {},
   "outputs": [],
   "source": [
    "# quick plot\n",
    "df_keo.pCO2_sw.plot()"
   ]
  },
  {
   "cell_type": "code",
   "execution_count": null,
   "metadata": {},
   "outputs": [],
   "source": [
    "# plotting SST and SSS on one plot\n",
    "\n",
    "fig, ax = plt.subplots()\n",
    "\n",
    "im = ax.plot(df_keo.index, df_keo.SST)\n",
    "im2 = ax.plot(df_keo.index,df_keo.SSS)\n",
    "\n",
    "ax.set_ylabel('SST and SSS') # fontsize=fs)\n",
    "\n",
    "plt.savefig('keo_ts.png', bbox_inches='tight', dpi=600) # saves plot as image file\n",
    "plt.show() # displays plot"
   ]
  },
  {
   "cell_type": "code",
   "execution_count": null,
   "metadata": {},
   "outputs": [],
   "source": [
    "# get average monthly values for dataset\n",
    "df_keo_avgmonth = df_keo.groupby('month').agg(['mean', 'std', 'count'])\n",
    "df_keo_avgmonth # displays the results"
   ]
  },
  {
   "cell_type": "code",
   "execution_count": null,
   "metadata": {},
   "outputs": [],
   "source": [
    "df_keo_avgmonth.info()"
   ]
  },
  {
   "cell_type": "code",
   "execution_count": null,
   "metadata": {},
   "outputs": [],
   "source": [
    "# find max monthly mean\n",
    "df_keo_avgmonth.pCO2_sw['mean'].max()"
   ]
  },
  {
   "cell_type": "code",
   "execution_count": null,
   "metadata": {},
   "outputs": [],
   "source": [
    "# plot monthly average SST\n",
    "fig, ax = plt.subplots()\n",
    "im = ax.errorbar(df_keo_avgmonth.index, df_keo_avgmonth.SST['mean'], \n",
    "                df_keo_avgmonth.SST['std'])#, marker= 's', color='C0',elinewidth=1, linewidth=3)\n",
    "ax.set_xlabel('Month')#, fontsize=fs)\n",
    "ax.set_ylabel('SST')#, fontsize=fs)\n",
    "ax.set_xticks(np.arange(1, 13, step=2))\n",
    "plt.savefig('keo_avgmonth_sst.png', bbox_inches='tight', dpi=600)\n",
    "plt.show() # displays plot"
   ]
  },
  {
   "cell_type": "markdown",
   "metadata": {},
   "source": [
    "Next, we want to calculate solubility-related changes in pCO2,'thermal component' and decompose from the non-thermal component. First, let's look at the monthly pCO2 data."
   ]
  },
  {
   "cell_type": "code",
   "execution_count": null,
   "metadata": {},
   "outputs": [],
   "source": []
  },
  {
   "cell_type": "code",
   "execution_count": null,
   "metadata": {},
   "outputs": [],
   "source": [
    "# plot monthly averages for pCO2\n",
    "fig, ax = plt.subplots()\n",
    "im = ax.errorbar(df_keo_avgmonth.index, df_keo_avgmonth.pCO2_sw['mean'], \n",
    "                df_keo_avgmonth.pCO2_sw['std'])#, marker= 's', color='C0',elinewidth=1, linewidth=3)\n",
    "ax.set_xlabel('Month')#, fontsize=fs)\n",
    "ax.set_ylabel('seawater pCO2')#, fontsize=fs)\n",
    "ax.set_xticks(np.arange(1, 13, step=2))\n",
    "plt.savefig('keo_avgmonth_pCO2sw.png', bbox_inches='tight', dpi=600)\n",
    "plt.show() # displays plot"
   ]
  },
  {
   "cell_type": "code",
   "execution_count": null,
   "metadata": {},
   "outputs": [],
   "source": [
    "SSTi=df_keo.SST[0]\n",
    "pCO2_swi=df_keo.pCO2_sw[0]\n",
    "pCO2_thermal=pCO2_swi+pCO2_swi*.0423*(df_keo.SST-SSTi) # 0.0423 as per Takahashi et al. (1993)\n"
   ]
  },
  {
   "cell_type": "code",
   "execution_count": null,
   "metadata": {},
   "outputs": [],
   "source": [
    "# plotting pCO2 and pCO2thermal on one plot\n",
    "fig, ax = plt.subplots()\n",
    "\n",
    "im = ax.plot(df_keo.index, df_keo.pCO2_sw,label='pCO2')\n",
    "im2 = ax.plot(df_keo.index, pCO2_thermal,label='thermal')\n",
    "im3 = ax.plot(df_keo.index, df_keo.pCO2_sw-pCO2_thermal+pCO2_swi,label='nonthermal')\n",
    "\n",
    "ax.set_ylabel('pCO2') # fontsize=fs)\n",
    "ax.legend()\n",
    "\n",
    "plt.savefig('keo_pCO2thermal.png', bbox_inches='tight', dpi=600) # saves plot as image file\n",
    "plt.show() # displays plot"
   ]
  },
  {
   "cell_type": "code",
   "execution_count": null,
   "metadata": {},
   "outputs": [],
   "source": []
  }
 ],
 "metadata": {
  "kernelspec": {
   "display_name": "Python 3",
   "language": "python",
   "name": "python3"
  },
  "language_info": {
   "codemirror_mode": {
    "name": "ipython",
    "version": 3
   },
   "file_extension": ".py",
   "mimetype": "text/x-python",
   "name": "python",
   "nbconvert_exporter": "python",
   "pygments_lexer": "ipython3",
   "version": "3.8.5"
  }
 },
 "nbformat": 4,
 "nbformat_minor": 2
}
