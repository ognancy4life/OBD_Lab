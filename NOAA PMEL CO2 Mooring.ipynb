{
 "cells": [
  {
   "cell_type": "markdown",
   "metadata": {},
   "source": [
    "# NOAA PMEL CO2 Mooring data example\n",
    "Created by Sophie Chu of NOAA PMEL and modified by Nancy Williams of USF CMS for use with Ocean Biogeochemical Dynamics Lab course\n",
    "- Downloading data via url\n",
    "- Creating a dataframe using pandas\n",
    "- Calculating monthly means and standard deviations\n",
    "- Plotting using matplotlib\n",
    "- Decomposing pCO2 seasonality into thermal and nonthermal components"
   ]
  },
  {
   "cell_type": "code",
   "execution_count": null,
   "metadata": {
    "scrolled": true
   },
   "outputs": [],
   "source": [
    "# import libraries needed for this analysis\n",
    "import pandas as pd\n",
    "import numpy as np\n",
    "import matplotlib.pyplot as plt\n",
    "import requests"
   ]
  },
  {
   "cell_type": "code",
   "execution_count": null,
   "metadata": {
    "scrolled": true
   },
   "outputs": [],
   "source": [
    "output_dir='generated/' # define where you want your figures to go"
   ]
  },
  {
   "cell_type": "code",
   "execution_count": null,
   "metadata": {
    "scrolled": true
   },
   "outputs": [],
   "source": [
    "# Make a function for data download via url\n",
    "\n",
    "def download_url(url):\n",
    "  print(\"downloading: \",url)\n",
    "  # assumes that the last segment after the / represents the file name\n",
    "  # if url is abc/xyz/file.txt, the file name will be file.txt\n",
    "  file_name_start_pos = url.rfind(\"/\") + 1\n",
    "  file_name = url[file_name_start_pos:]\n",
    " \n",
    "  r = requests.get(url, stream=True)\n",
    "  if r.status_code == requests.codes.ok:\n",
    "    with open(file_name, 'wb') as f:\n",
    "      for data in r:\n",
    "        f.write(data)"
   ]
  },
  {
   "cell_type": "code",
   "execution_count": null,
   "metadata": {
    "scrolled": true
   },
   "outputs": [],
   "source": [
    "# Use above function to download data via url and save file\n",
    "# Let's start with the KEO mooring off of Hawaii.\n",
    "download_url(\"https://www.pmel.noaa.gov/co2/timeseries/KEO.txt\")"
   ]
  },
  {
   "cell_type": "code",
   "execution_count": null,
   "metadata": {
    "scrolled": true
   },
   "outputs": [],
   "source": [
    "# read text file into dataframe\n",
    "keo = pd.read_table('KEO.txt', delim_whitespace=True, comment ='#', header=0,\n",
    "                       names=('date','time', 'SST', 'SSS', 'pCO2_sw', 'pCO2_air', 'xCO2_air', 'pH_sw'))"
   ]
  },
  {
   "cell_type": "code",
   "execution_count": null,
   "metadata": {
    "scrolled": false
   },
   "outputs": [],
   "source": [
    "# take a quick look at the beginning and end of the dataframe\n",
    "keo.head"
   ]
  },
  {
   "cell_type": "code",
   "execution_count": null,
   "metadata": {
    "scrolled": true
   },
   "outputs": [],
   "source": [
    "# function to define data time as index and add depth and month columns\n",
    "\n",
    "def surfdf (_df, date, time, dpth):\n",
    "    _df['datetime64_ns'] = pd.to_datetime(_df.date+ ' ' + _df.time) # combine date and time into one column\n",
    "    _df.index = _df.datetime64_ns # set datetime column as index\n",
    "    _df['Depth'] = dpth # add depth of surface measurements as column\n",
    "    _df['month'] = _df['datetime64_ns'].dt.month.values #make month column\n",
    "    \n",
    "    return _df\n",
    "\n",
    "# apply function to dataframe\n",
    "\n",
    "df_keo = surfdf(keo, keo.date, keo.time, 0.5)"
   ]
  },
  {
   "cell_type": "code",
   "execution_count": null,
   "metadata": {
    "scrolled": true
   },
   "outputs": [],
   "source": [
    "# take a quick look at the beginning and end of the new dataframe\n",
    "df_keo.head"
   ]
  },
  {
   "cell_type": "code",
   "execution_count": null,
   "metadata": {
    "scrolled": true
   },
   "outputs": [],
   "source": [
    "# take a quick look at the different data types of variables in the data frame\n",
    "df_keo.dtypes"
   ]
  },
  {
   "cell_type": "code",
   "execution_count": null,
   "metadata": {
    "scrolled": true
   },
   "outputs": [],
   "source": [
    "# quick plot\n",
    "df_keo.pCO2_sw.plot()"
   ]
  },
  {
   "cell_type": "code",
   "execution_count": null,
   "metadata": {
    "scrolled": true
   },
   "outputs": [],
   "source": [
    "# plotting SST and SSS on one plot\n",
    "fig, ax = plt.subplots()\n",
    "im = ax.scatter(df_keo.index, df_keo.SST, s=1)\n",
    "im2 = ax.scatter(df_keo.index,df_keo.SSS, s=1)\n",
    "ax.set_ylabel('SST and SSS') # fontsize=fs)\n",
    "plt.title('KEO Mooring')\n",
    "plt.savefig(output_dir+'keo_ts.png', bbox_inches='tight', dpi=600) # saves plot as image file\n",
    "plt.show() # displays plot"
   ]
  },
  {
   "cell_type": "code",
   "execution_count": null,
   "metadata": {
    "scrolled": true
   },
   "outputs": [],
   "source": [
    "# get average monthly values for dataset\n",
    "df_keo_avgmonth = df_keo.groupby('month').agg(['mean', 'std', 'count'])\n",
    "df_keo_avgmonth # displays the results"
   ]
  },
  {
   "cell_type": "code",
   "execution_count": null,
   "metadata": {
    "scrolled": true
   },
   "outputs": [],
   "source": [
    "df_keo_avgmonth.info()"
   ]
  },
  {
   "cell_type": "markdown",
   "metadata": {},
   "source": [
    "#### *Note: Ideally, we would detrend this pCO2 data first, because we know that atospheric pCO2 increases each year (https://www.esrl.noaa.gov/gmd/ccgg/trends/) and that the ocean generally increases at a similar pace. For this analysis, it will not be important but it is best practice to detrend your data before calculating monthly climatological seasonal cycles."
   ]
  },
  {
   "cell_type": "code",
   "execution_count": null,
   "metadata": {
    "scrolled": true
   },
   "outputs": [],
   "source": [
    "# find max monthly mean\n",
    "df_keo_avgmonth.pCO2_sw['mean'].max()"
   ]
  },
  {
   "cell_type": "code",
   "execution_count": null,
   "metadata": {
    "scrolled": true
   },
   "outputs": [],
   "source": [
    "# plot monthly average SST\n",
    "fig, ax = plt.subplots()\n",
    "im = ax.errorbar(df_keo_avgmonth.index, df_keo_avgmonth.SST['mean'], \n",
    "                df_keo_avgmonth.SST['std'])#, marker= 's', color='C0',elinewidth=1, linewidth=3)\n",
    "ax.set_xlabel('Month')#, fontsize=fs)\n",
    "ax.set_ylabel('SST')#, fontsize=fs)\n",
    "ax.set_xticks(np.arange(1, 13, step=2))\n",
    "plt.title('KEO Mooring')\n",
    "plt.savefig(output_dir+'keo_avgmonth_sst.png', bbox_inches='tight', dpi=600)\n",
    "plt.show() # displays plot"
   ]
  },
  {
   "cell_type": "markdown",
   "metadata": {},
   "source": [
    "Next, we want to calculate solubility-related changes in pCO2,'thermal component' and decompose from the non-thermal component. First, let's look at the monthly pCO2 data."
   ]
  },
  {
   "cell_type": "code",
   "execution_count": null,
   "metadata": {
    "scrolled": true
   },
   "outputs": [],
   "source": [
    "# plot monthly averages for pCO2\n",
    "fig, ax = plt.subplots()\n",
    "im = ax.errorbar(df_keo_avgmonth.index, df_keo_avgmonth.pCO2_sw['mean'], \n",
    "                df_keo_avgmonth.pCO2_sw['std'])#, marker= 's', color='C0',elinewidth=1, linewidth=3)\n",
    "ax.set_xlabel('Month')#, fontsize=fs)\n",
    "ax.set_ylabel('seawater pCO2')#, fontsize=fs)\n",
    "ax.set_xticks(np.arange(1, 13, step=2))\n",
    "plt.title('KEO Mooring')\n",
    "plt.savefig(output_dir+'keo_avgmonth_pCO2sw.png', bbox_inches='tight', dpi=600)\n",
    "plt.show() # displays plot"
   ]
  },
  {
   "cell_type": "code",
   "execution_count": null,
   "metadata": {
    "scrolled": true
   },
   "outputs": [],
   "source": [
    "# Decomposing the thermal and nonthermal components of pCO2\n",
    "SSTi=df_keo.SST[0]\n",
    "pCO2_swi=df_keo.pCO2_sw[0]\n",
    "pCO2_thermal=pCO2_swi+pCO2_swi*.0423*(df_keo.SST-SSTi) # 0.0423 as per Takahashi et al. (1993)"
   ]
  },
  {
   "cell_type": "code",
   "execution_count": null,
   "metadata": {
    "scrolled": true
   },
   "outputs": [],
   "source": [
    "# plotting pCO2 and pCO2thermal on one plot\n",
    "fig, ax = plt.subplots()\n",
    "im = ax.scatter(df_keo.index, df_keo.pCO2_sw,label='Observed pCO2', s=1)\n",
    "im3 = ax.scatter(df_keo.index, df_keo.pCO2_sw-pCO2_thermal+pCO2_swi,label='nonthermal', s=1)\n",
    "im2 = ax.scatter(df_keo.index, pCO2_thermal,label='thermal', s=1)\n",
    "ax.set_ylabel('pCO2(microatm.)') # fontsize=fs)\n",
    "ax.legend()\n",
    "plt.title('KEO Mooring')\n",
    "plt.savefig(output_dir+'keo_pCO2thermal.png', bbox_inches='tight', dpi=600) # saves plot as image file\n",
    "plt.show() # displays plot"
   ]
  },
  {
   "cell_type": "markdown",
   "metadata": {},
   "source": [
    "### Is pCO2 at KEO driven more by thermal or nonthermal (biophysical) effects?\n",
    "\n",
    "Now, let's compare to another mooring. You can go to https://www.pmel.noaa.gov/co2/story/CO2+Data+Discovery and find another mooring. Try to find one where the biophysical effects dominate. Where do you think you might find such a mooring?"
   ]
  },
  {
   "cell_type": "code",
   "execution_count": null,
   "metadata": {
    "scrolled": true
   },
   "outputs": [],
   "source": [
    "# Dynamically define the new mooring name\n",
    "MooringName='PAPA'\n",
    "download_url(\"https://www.pmel.noaa.gov/co2/timeseries/\"+MooringName+\".txt\")"
   ]
  },
  {
   "cell_type": "code",
   "execution_count": null,
   "metadata": {
    "scrolled": true
   },
   "outputs": [],
   "source": [
    "# read text file into dataframe\n",
    "Mooring = pd.read_table(MooringName+'.txt', delim_whitespace=True, comment ='#', header=0,\n",
    "                       names=('date','time', 'SST', 'SSS', 'pCO2_sw', 'pCO2_air', 'xCO2_air', 'pH_sw'))"
   ]
  },
  {
   "cell_type": "code",
   "execution_count": null,
   "metadata": {
    "scrolled": true
   },
   "outputs": [],
   "source": [
    "# apply function to dataframe (this function was defined earlier in the code)\n",
    "df_Mooring = surfdf(Mooring, Mooring.date, Mooring.time, 0.5)\n",
    "# quick plot\n",
    "df_Mooring.pCO2_sw.plot()"
   ]
  },
  {
   "cell_type": "code",
   "execution_count": null,
   "metadata": {
    "scrolled": true
   },
   "outputs": [],
   "source": [
    "# plotting SST and SSS on one plot\n",
    "fig, ax = plt.subplots()\n",
    "im = ax.scatter(df_Mooring.index, df_Mooring.SST, s=1)\n",
    "im2 = ax.scatter(df_Mooring.index,df_Mooring.SSS, s=1)\n",
    "ax.set_ylabel('SST and SSS') # fontsize=fs)\n",
    "plt.savefig(output_dir+MooringName+'_ts.png', bbox_inches='tight', dpi=600) # saves plot as image file\n",
    "plt.title(MooringName+' Mooring')\n",
    "plt.show() # displays plot"
   ]
  },
  {
   "cell_type": "code",
   "execution_count": null,
   "metadata": {},
   "outputs": [],
   "source": [
    "# get average monthly values for dataset\n",
    "df_Mooring_avgmonth = df_Mooring.groupby('month').agg(['mean', 'std', 'count'])\n",
    "# find max monthly mean\n",
    "df_Mooring_avgmonth.pCO2_sw['mean'].max()"
   ]
  },
  {
   "cell_type": "code",
   "execution_count": null,
   "metadata": {},
   "outputs": [],
   "source": [
    "# plot monthly average SST\n",
    "fig, ax = plt.subplots()\n",
    "im = ax.errorbar(df_Mooring_avgmonth.index, df_Mooring_avgmonth.SST['mean'], \n",
    "                df_Mooring_avgmonth.SST['std'])#, marker= 's', color='C0',elinewidth=1, linewidth=3)\n",
    "ax.set_xlabel('Month')#, fontsize=fs)\n",
    "ax.set_ylabel('SST')#, fontsize=fs)\n",
    "ax.set_xticks(np.arange(1, 13, step=2))\n",
    "plt.title(MooringName+' Mooring')\n",
    "plt.savefig(output_dir+MooringName+'_avgmonth_sst.png', bbox_inches='tight', dpi=600)\n",
    "plt.show() # displays plot"
   ]
  },
  {
   "cell_type": "code",
   "execution_count": null,
   "metadata": {},
   "outputs": [],
   "source": [
    "# plot monthly averages for pCO2\n",
    "fig, ax = plt.subplots()\n",
    "im = ax.errorbar(df_Mooring_avgmonth.index, df_Mooring_avgmonth.pCO2_sw['mean'], \n",
    "                df_Mooring_avgmonth.pCO2_sw['std'])#, marker= 's', color='C0',elinewidth=1, linewidth=3)\n",
    "ax.set_xlabel('Month')#, fontsize=fs)\n",
    "ax.set_ylabel('seawater pCO2')#, fontsize=fs)\n",
    "ax.set_xticks(np.arange(1, 13, step=2))\n",
    "plt.title(MooringName+' Mooring')\n",
    "plt.savefig(output_dir+MooringName+'_avgmonth_pCO2sw.png', bbox_inches='tight', dpi=600)\n",
    "plt.show() # displays plot"
   ]
  },
  {
   "cell_type": "code",
   "execution_count": null,
   "metadata": {},
   "outputs": [],
   "source": [
    "# Decomposing the thermal and nonthermal components of pCO2\n",
    "SSTi=df_Mooring.SST[0]\n",
    "pCO2_swi=df_Mooring.pCO2_sw[0]\n",
    "pCO2_thermal=pCO2_swi+pCO2_swi*.0423*(df_Mooring.SST-SSTi) # 0.0423 as per Takahashi et al. (1993)\n",
    "\n",
    "# plotting pCO2 and pCO2thermal on one plot\n",
    "fig, ax = plt.subplots()\n",
    "im = ax.scatter(df_Mooring.index, df_Mooring.pCO2_sw,label='Observed pCO2', s=1)\n",
    "im3 = ax.scatter(df_Mooring.index, df_Mooring.pCO2_sw-pCO2_thermal+pCO2_swi,label='nonthermal', s=1)\n",
    "im2 = ax.scatter(df_Mooring.index, pCO2_thermal,label='thermal', s=1)\n",
    "ax.set_ylabel('pCO2(microatm.)') # fontsize=fs)\n",
    "ax.legend()\n",
    "plt.title(MooringName+' Mooring')\n",
    "plt.savefig(output_dir+MooringName+'_pCO2thermal.png', bbox_inches='tight', dpi=600) # saves plot as image file\n",
    "plt.show() # displays plot"
   ]
  }
 ],
 "metadata": {
  "kernelspec": {
   "display_name": "Python 3",
   "language": "python",
   "name": "python3"
  },
  "language_info": {
   "codemirror_mode": {
    "name": "ipython",
    "version": 3
   },
   "file_extension": ".py",
   "mimetype": "text/x-python",
   "name": "python",
   "nbconvert_exporter": "python",
   "pygments_lexer": "ipython3",
   "version": "3.8.5"
  }
 },
 "nbformat": 4,
 "nbformat_minor": 2
}
