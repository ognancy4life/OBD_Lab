{
 "cells": [
  {
   "cell_type": "markdown",
   "metadata": {},
   "source": [
    "## Ocean Biogeochemical Dynamics Lab, Spring 2021\n",
    "### Introduction to Python and Jupyter Notebooks\n",
    "### Importing and cleaning data"
   ]
  },
  {
   "cell_type": "code",
   "execution_count": null,
   "metadata": {},
   "outputs": [],
   "source": [
    "# This is how you make a comment!\n",
    "# Always annotate your code so you know what you did and why\n",
    "# I promise you won't remember the details when it comes time to write up the results\n",
    "\n",
    "# Ideally, you are also using some kind of version control like github\n",
    "# version control allows you to track changes in your code, revert back if you need to,\n",
    "# or even branch a piece of code off into two independent versions.\n",
    "# Also great for collaborative projects\n",
    "\n",
    "# Always start by importing the tools you will need\n",
    "import numpy as np\n",
    "import pandas as pd\n",
    "import matplotlib.pyplot as plt\n",
    "import matplotlib.path as mpath\n",
    "import seaborn as sns # this will change the look of pandas plots too\n",
    "import cartopy.crs as ccrs\n",
    "import cartopy.feature\n",
    "%matplotlib inline \n",
    "# this forces matplotlib to print figures out here when you make plots\n",
    "\n",
    "# Press Shift + Enter to \"run\" this cell and move on to the next one\n",
    "# Press Option + Enter to add run and an empty cell below this one "
   ]
  },
  {
   "cell_type": "code",
   "execution_count": null,
   "metadata": {},
   "outputs": [],
   "source": [
    "# Start a new \"cell\" when you transition to a new step in your code\n",
    "# This allows you to run your code in chunks and better troubleshoot where issues might be.\n",
    "\n",
    "# Bring in the dataset you will need\n",
    "# This code imports a SOCCOM biogeochemical Argo Float \"snapshot\" dataset from December 2020 for one float.\n",
    "# The entire .zip file with all floats can be downloaded here: \n",
    "# https://library.ucsd.edu/dc/object/bb94601812 as the \"LIAR High resolution ODV format\"\n",
    "# It is easiest to place the file in the same directory where you will keep this code\n",
    "\n",
    "# Download, and then go and unzip that file. What's inside?\n",
    "\n",
    "\n",
    "# In this case, a \"snapshot\" means that the data have been quality-controlled \n",
    "# and archived with a \"doi\" or digital object identifier.\n",
    "# It is important to use a dataset that has been \"frozen\" somewhere and to document \n",
    "# every step you take from that point on, including cleaning, reformatting, renaming, unit conversions,\n",
    "# and calculations.\n",
    "\n",
    "# We want to use Pandas' built-in read_csv function to import the data file into a pandas\n",
    "# data frame called \"flt\"\n",
    "\n",
    "flt=pd.read_csv('SOCCOM_HiResQC_LIAR_22Dec2020_odvtxt/9091SOOCN_HRQC.TXT', error_bad_lines=False)\n",
    "# There are a bunch of other input options for this function, and you can see them by\n",
    "# pressing \"tab\" inside the function\n",
    "\n"
   ]
  },
  {
   "cell_type": "code",
   "execution_count": null,
   "metadata": {},
   "outputs": [],
   "source": [
    "# Python doesn't typically spit out the results unless you ask for them.\n",
    "# This is how you look at just the \"head\" the flt dataframe\n",
    "flt.head()"
   ]
  },
  {
   "cell_type": "code",
   "execution_count": null,
   "metadata": {},
   "outputs": [],
   "source": [
    "# This is how you look at just the whole flt dataframe\n",
    "flt"
   ]
  },
  {
   "cell_type": "code",
   "execution_count": null,
   "metadata": {},
   "outputs": [],
   "source": [
    "# Clearly something is wrong. We didn't get any meaningful data! Why? Because those are comment lines in the data file.\n",
    "# Let's try telling read_cvs what a comment looks like\n",
    "flt=pd.read_csv('SOCCOM_HiResQC_LIAR_22Dec2020_odvtxt/9091SOOCN_HRQC.TXT', error_bad_lines=False, comment='/')\n",
    "# There are a bunch of other input options for this function, and you can see them by\n",
    "# typing a comma and then pressing \"tab\" from inside the function parentheses\n",
    "# Run this new read_csv function and look at the header of the new flt dataframe\n",
    "# by running this code you overwrite your last flt dataframe\n",
    "flt.head()"
   ]
  },
  {
   "cell_type": "code",
   "execution_count": null,
   "metadata": {},
   "outputs": [],
   "source": [
    "# We are getting warmer, we now see a more meaningful header and some data, but what are those \"\\t\"s?\n",
    "\n",
    "# Those are tab delimiters/separators. CSV means comma separated values and TSV means tab separated values.\n",
    "# The files typically look identical and the delimiters are invisible when viewed from excel or a text editor.\n",
    "# So now we need to tell read_csv what the delimiter is.\n",
    "flt=pd.read_csv('SOCCOM_HiResQC_LIAR_22Dec2020_odvtxt/9091SOOCN_HRQC.TXT', error_bad_lines=False, \n",
    "                comment='/', delimiter='\\t')\n",
    "# simply press enter in the code to continue your code onto a new line if you're inside a parentheses\n",
    "# Look at the header\n",
    "flt.head()"
   ]
  },
  {
   "cell_type": "code",
   "execution_count": null,
   "metadata": {},
   "outputs": [],
   "source": [
    "# That looks better, now let's look at the info for the file to see more:\n",
    "flt.info()"
   ]
  },
  {
   "cell_type": "code",
   "execution_count": null,
   "metadata": {},
   "outputs": [],
   "source": [
    "# We are getting many rows of data, but only four columns. Why? \n",
    "\n",
    "# Because the \"comment\" character used in these float data files is two forward slashes \"//\"\n",
    "# Unfortunately, Pandas read_csv can only handle one character in the comment field.\n",
    "\n",
    "# Because we entered '/' as the comment character, we also lose everything after any '/'\n",
    "# In this case, we lose everything after \"mon\" in the header row and after the month number in all data rows\n",
    "# Basically, you should never use your delimiter/separator character anywhere else in your data file."
   ]
  },
  {
   "cell_type": "code",
   "execution_count": null,
   "metadata": {},
   "outputs": [],
   "source": [
    "# To work around this, we will first open the file and replace all instances of '//' with '#'\n",
    "# I checked to make sure \"#\" isn't used in the actual data anywhere\n",
    "\n",
    "# input file\n",
    "fin = open('SOCCOM_HiResQC_LIAR_22Dec2020_odvtxt/9091SOOCN_HRQC.TXT','rt',encoding='UTF-8')\n",
    "\n",
    "# output file to which we will write the result\n",
    "fout = open('fltrem.txt','wt')\n",
    "\n",
    "# This how you define a function. \n",
    "# You write functions in order to generalize a process so you can use it over and over\n",
    "# without having to rewrite each time.\n",
    "\n",
    "# for each line in the input file\n",
    "for line in fin:\n",
    "    # red and replace the string and write to the output file\n",
    "    fout.write(line.replace('//','#'))\n",
    "# close the files\n",
    "fin.close()\n",
    "fout.close()"
   ]
  },
  {
   "cell_type": "code",
   "execution_count": null,
   "metadata": {},
   "outputs": [],
   "source": [
    "flt=pd.read_csv('fltrem.txt',delimiter='\\t',comment='#',na_values=-1E10)\n",
    "# Now I've also added a term to tell read_csv what the \"not a number\" value is in the file\n",
    "# NA values are used to fill in where there is either no data or sometimes bad data which has been removed\n",
    "# They used an absurdly small number which is not zero, but is so small \n",
    "# that you would never get the value from a sensor. You could also use an absurdly large number"
   ]
  },
  {
   "cell_type": "code",
   "execution_count": null,
   "metadata": {},
   "outputs": [],
   "source": [
    "#take a look at the info for the flt dataframe you have made\n",
    "flt.info()"
   ]
  },
  {
   "cell_type": "code",
   "execution_count": null,
   "metadata": {},
   "outputs": [],
   "source": [
    "# look at the head of the data frame\n",
    "flt.head()"
   ]
  },
  {
   "cell_type": "code",
   "execution_count": null,
   "metadata": {},
   "outputs": [],
   "source": [
    "# Notice that the date format is in a text string, and we will want it in a number format\n",
    "flt['date']=pd.to_datetime(flt['mon/day/yr']+' '+ flt['hh:mm'])\n",
    "flt.info()"
   ]
  },
  {
   "cell_type": "code",
   "execution_count": null,
   "metadata": {},
   "outputs": [],
   "source": [
    "# Notice the QF or Quality Flag columns. These tell us which data are good, questionable, and bad.\n",
    "# We only want to use good data. How can we tell which data are good?\n",
    "# Go back to the text file comments. We should remove bad and questionable data flagged 4 and 3, respectively.\n",
    "# We will do this later."
   ]
  },
  {
   "cell_type": "code",
   "execution_count": null,
   "metadata": {},
   "outputs": [],
   "source": [
    "# Make a map using cartopy (basemap is deprecated!)\n",
    "\n",
    "plt.figure(figsize=(6, 6))\n",
    "ax = plt.axes(projection=ccrs.SouthPolarStereo())\n",
    "ax.set_extent([-180,180,-90,-30],ccrs.PlateCarree())\n",
    "ax.add_feature(cartopy.feature.LAND)\n",
    "ax.add_feature(cartopy.feature.OCEAN)\n",
    "ax.gridlines()\n",
    "\n",
    "# Compute a circle in axes coordinates, which we can use as a boundary\n",
    "# for the map. We can pan/zoom as much as we like - the boundary will be\n",
    "# permanently circular.\n",
    "theta = np.linspace(0, 2*np.pi, 100)\n",
    "center, radius = [0.5, 0.5], 0.5\n",
    "verts = np.vstack([np.sin(theta), np.cos(theta)]).T\n",
    "circle = mpath.Path(verts * radius + center)\n",
    "\n",
    "ax.set_boundary(circle, transform=ax.transAxes)\n",
    "\n",
    "plt.plot(flt['Lon [°E]'],flt['Lat [°N]'],color='Black',transform=ccrs.PlateCarree())\n",
    "\n",
    "plt.savefig('SPstereo.pdf')\n",
    "plt.savefig('SPstereo.png')\n",
    "\n",
    "plt.show()"
   ]
  },
  {
   "cell_type": "code",
   "execution_count": null,
   "metadata": {},
   "outputs": [],
   "source": [
    "# Let's make a quick plot of temperature vs pressure\n",
    "plt.plot(flt['Temperature[°C]'],flt['Pressure[dbar]'])\n",
    "# This method is quick and dirty but doesn't give us much control over the figure"
   ]
  },
  {
   "cell_type": "code",
   "execution_count": null,
   "metadata": {},
   "outputs": [],
   "source": [
    "# Something funny? \n",
    "# We want to invert the axis and add some labels\n",
    "\n",
    "# Now we will use the object-oriented programming to have more control over the plot\n",
    "fig = plt.figure()\n",
    "# this allows you to create multiple axes\n",
    "axes1= fig.add_axes([0, 0, 1, 1])\n",
    "axes1.plot(flt['Temperature[°C]'],flt['Pressure[dbar]'])\n",
    "axes1.set_title('Float 9091 Temperature') # There are ways to make the figure title dynamic,\n",
    "# i.e. adapts to the float number\n",
    "axes1.invert_yaxis()\n",
    "axes1.set_xlabel('Temperature [°C]')\n",
    "axes1.set_ylabel('Pressure [dbar]')\n",
    "# if you wanted to add a subplot you would add it like this\n",
    "#axes2= fig.add_axes([.7, .7, .2, .2])"
   ]
  },
  {
   "cell_type": "code",
   "execution_count": null,
   "metadata": {},
   "outputs": [],
   "source": [
    "# Can also use subplots function\n",
    "fig,axes = plt.subplots(nrows = 1, ncols = 2,figsize=(6,6))\n",
    "# if you have many subplots and some overlap, use tight_layout, or you can leave it \n",
    "# at the end of all of your plot statements\n",
    "# plt.tight_layout()\n",
    "\n",
    "axes[0].plot(flt['Temperature[°C]'],flt['Pressure[dbar]'])\n",
    "#axes[0].set_title('Temperature')\n",
    "axes[0].invert_yaxis()\n",
    "axes[0].set_ylabel('Pressure [dbar]')\n",
    "axes[0].set_xlabel('Temperature [°C]')\n",
    "\n",
    "axes[1].plot(flt['Salinity[pss]'],flt['Pressure[dbar]'])\n",
    "#axes[1].set_title('Salinity')\n",
    "axes[1].invert_yaxis()\n",
    "axes[1].set_ylabel('Pressure [dbar]')\n",
    "axes[1].set_xlabel('Salinity [pss]')\n",
    "\n",
    "plt.tight_layout()\n",
    "# This is the first figure we're saving. We have given it a name, a type, and a dpi or\n",
    "# dots per inch which is resolution\n",
    "fig.savefig('F9091TS.png', dpi = 200)"
   ]
  },
  {
   "cell_type": "code",
   "execution_count": null,
   "metadata": {},
   "outputs": [],
   "source": [
    "# Now let's plot multiple things on one axis\n",
    "fig = plt.figure()\n",
    "ax = fig.add_axes([0.1, 0.1, .8, .8])\n",
    "ax.scatter(flt['DIC_LIAR[µmol/kg]'],flt['Pressure[dbar]'],label = 'DIC(umol kg-1)', color = 'red')\n",
    "ax.scatter(flt['TALK_LIAR[µmol/kg]'],flt['Pressure[dbar]'],label = 'TALK(umol kg-1)', color = 'blue') \n",
    "# for color you can also put in an RGB hex code\n",
    "ax.legend(loc=0) # 0 is for the \"best\" location\n",
    "ax.set_title('Float 9091')# Figure out how to have this be dynamic and change with the float number\n",
    "ax.invert_yaxis()\n",
    "fig.savefig('F9091DICTALK.png', dpi = 200)"
   ]
  },
  {
   "cell_type": "code",
   "execution_count": null,
   "metadata": {},
   "outputs": [],
   "source": [
    "# This is where we left off in class on Jan 22\n",
    "\n",
    "# We see funny data here. Maybe we need to use the quality flags now\n",
    "# Keep only good data flagged zero and replace rest with 'nan' which is \"not a number\"\n",
    "flt['DIC_LIAR[µmol/kg]'] = np.where(flt['QF.17'] == 0 , flt['DIC_LIAR[µmol/kg]'], np.nan)\n",
    "\n",
    "# Now replot that same figure\n",
    "fig = plt.figure()\n",
    "ax = fig.add_axes([0.1, 0.1, .8, .8])\n",
    "ax.scatter(flt['DIC_LIAR[µmol/kg]'],flt['Pressure[dbar]'],label = 'DIC(umol kg-1)', color = 'red')\n",
    "ax.scatter(flt['TALK_LIAR[µmol/kg]'],flt['Pressure[dbar]'],label = 'TALK(umol kg-1)', color = 'blue') \n",
    "# for color you can also put in an RGB hex code\n",
    "ax.legend(loc=0) # 0 is for the \"best\" location\n",
    "ax.set_title('Float 9091')# Figure out how to have this be dynamic and change with the float number\n",
    "ax.invert_yaxis()\n",
    "fig.savefig('F9091DICTALKQC.png', dpi = 200)"
   ]
  },
  {
   "cell_type": "code",
   "execution_count": null,
   "metadata": {},
   "outputs": [],
   "source": [
    "# If we use \"plot\" we get a HUGE gap in the mid-water column. \n",
    "# The BGC Data are lower resolution so we need to use scatter.\n",
    "fig = plt.figure()\n",
    "# this allows you to create multiple axes\n",
    "axes1= fig.add_axes([0.1, 0.1, .8, .8])\n",
    "axes1.scatter(flt['pHinsitu[Total]'],flt['Pressure[dbar]'],label = 'insitu pH',color='purple')\n",
    "axes1.legend()\n",
    "axes1.set_title('Float 9091')\n",
    "axes1.invert_yaxis()\n",
    "fig.savefig('F9091pH.png', dpi = 200)"
   ]
  },
  {
   "cell_type": "code",
   "execution_count": null,
   "metadata": {},
   "outputs": [],
   "source": [
    "# Keep only good data flagged zero and replace rest with 'nan' which is \"not a number\"\n",
    "flt['pHinsitu[Total]'] = np.where(flt['QF.14'] == 0 , flt['pHinsitu[Total]'], np.nan)\n",
    "fig = plt.figure()\n",
    "# this allows you to create multiple axes\n",
    "axes1= fig.add_axes([0.1, 0.1, .8, .8])\n",
    "axes1.scatter(flt['pHinsitu[Total]'],flt['Pressure[dbar]'],label = 'insitu pH',color='purple')\n",
    "axes1.legend()\n",
    "axes1.set_title('Float 9091')\n",
    "axes1.invert_yaxis()\n",
    "fig.savefig('F9091pHQC.png', dpi = 200)"
   ]
  },
  {
   "cell_type": "code",
   "execution_count": null,
   "metadata": {},
   "outputs": [],
   "source": [
    "# is nitrate there?\n",
    "fig = plt.figure()\n",
    "# this allows you to create multiple axes\n",
    "axes1= fig.add_axes([0.1, 0.1, .8, .8])\n",
    "axes1.scatter(flt['Nitrate[µmol/kg]'],flt['Pressure[dbar]'],label = 'Nitrate (umol kg-1)',color='green')\n",
    "axes1.legend()\n",
    "axes1.set_title('Float 9091')\n",
    "axes1.invert_yaxis()\n",
    "fig.savefig('F9091Nitrate.png', dpi = 200)"
   ]
  },
  {
   "cell_type": "code",
   "execution_count": null,
   "metadata": {},
   "outputs": [],
   "source": [
    "# Keep only good data flagged zero and replace rest with 'nan' which is \"not a number\"\n",
    "flt['Nitrate[µmol/kg]'] = np.where(flt['QF.8'] == 0 , flt['Nitrate[µmol/kg]'], np.nan)\n",
    "\n",
    "fig = plt.figure()\n",
    "# this allows you to create multiple axes\n",
    "axes1= fig.add_axes([0.1, 0.1, .8, .8])\n",
    "axes1.scatter(flt['Nitrate[µmol/kg]'],flt['Pressure[dbar]'],label = 'Nitrate (umol kg-1)',color='green')\n",
    "axes1.legend()\n",
    "axes1.set_title('Float 9091')\n",
    "axes1.invert_yaxis()\n",
    "fig.savefig('F9091NitrateQC.png', dpi = 200)"
   ]
  },
  {
   "cell_type": "code",
   "execution_count": null,
   "metadata": {},
   "outputs": [],
   "source": [
    "# is oxygen there?\n",
    "# Keep only good data flagged zero and replace rest with 'nan' which is \"not a number\"\n",
    "flt['Oxygen[µmol/kg]'] = np.where(flt['QF.6'] == 0 , flt['Oxygen[µmol/kg]'], np.nan)\n",
    "fig = plt.figure()\n",
    "# this allows you to create multiple axes\n",
    "axes1= fig.add_axes([0.1, 0.1, .8, .8])\n",
    "axes1.scatter(flt['Oxygen[µmol/kg]'],flt['Pressure[dbar]'],label = 'Oxygen (umol kg-1)',color='teal')\n",
    "axes1.legend()\n",
    "axes1.set_title('Float 9091')\n",
    "axes1.invert_yaxis()\n",
    "fig.savefig('F9091Oxygen.png', dpi = 200)"
   ]
  },
  {
   "cell_type": "code",
   "execution_count": null,
   "metadata": {},
   "outputs": [],
   "source": []
  },
  {
   "cell_type": "code",
   "execution_count": null,
   "metadata": {},
   "outputs": [],
   "source": [
    "# Next look at oxygen over time\n",
    "fig = plt.figure(num=None, figsize=(10, 2), dpi=80, facecolor='w', edgecolor='k')\n",
    "ax = fig.add_axes([0.1, 0.1, .8, .8])\n",
    "sc=ax.scatter(flt['date'],flt['Depth[m]'],c=flt['Oxygen[µmol/kg]'],cmap = 'magma',)\n",
    "ax.invert_yaxis()\n",
    "ax.set_ylim([300,0])\n",
    "cb=plt.colorbar(sc)\n",
    "cb.set_label('Oxygen[µmol/kg]')\n",
    "sc.set_clim(vmin = 180, vmax = 380) "
   ]
  },
  {
   "cell_type": "code",
   "execution_count": null,
   "metadata": {},
   "outputs": [],
   "source": [
    "# Next look at pCO2 over time\n",
    "fig = plt.figure(num=None, figsize=(10, 2), dpi=80, facecolor='w', edgecolor='k')\n",
    "ax = fig.add_axes([0.1, 0.1, .8, .8])\n",
    "sc=ax.scatter(flt['date'],flt['Depth[m]'],c=flt['pCO2_LIAR[µatm]'],cmap = 'magma')\n",
    "ax.invert_yaxis()\n",
    "ax.set_ylim([300,0])\n",
    "cb=plt.colorbar(sc)\n",
    "cb.set_label('pCO2[µatm]')\n",
    "sc.set_clim(vmin = 350, vmax = 500) \n"
   ]
  },
  {
   "cell_type": "code",
   "execution_count": null,
   "metadata": {},
   "outputs": [],
   "source": [
    "# Keep only good data flagged zero and replace rest with 'nan' which is \"not a number\"\n",
    "flt['Temperature[°C]'] = np.where(flt['QF.2'] == 0 , flt['Temperature[°C]'], np.nan)\n",
    "flt['Salinity[pss]'] = np.where(flt['QF.3'] == 0 , flt['Salinity[pss]'], np.nan)\n",
    "\n",
    "sns.distplot(flt['Temperature[°C]'],kde='false')"
   ]
  },
  {
   "cell_type": "code",
   "execution_count": null,
   "metadata": {},
   "outputs": [],
   "source": [
    "sns.jointplot(x='Temperature[°C]',y='Salinity[pss]',data=flt,kind='hex')"
   ]
  },
  {
   "cell_type": "code",
   "execution_count": null,
   "metadata": {},
   "outputs": [],
   "source": [
    "fltsmall=flt[['pHinsitu[Total]','Salinity[pss]','Temperature[°C]']].copy()"
   ]
  },
  {
   "cell_type": "code",
   "execution_count": null,
   "metadata": {},
   "outputs": [],
   "source": [
    "fltsmall"
   ]
  },
  {
   "cell_type": "code",
   "execution_count": null,
   "metadata": {},
   "outputs": [],
   "source": [
    "sns.pairplot(fltsmall)\n",
    "# This will take some time. Notice the \"*\" that appears to the upper left while the cell runs\n",
    "# If something is taking longer to run than you think it should, that's called \"hanging\" and\n",
    "# It may be due to an error. You can quit that cell by going up to \"Kernel\" in the menu bar and \n",
    "# clicking \"interrupt\""
   ]
  },
  {
   "cell_type": "code",
   "execution_count": null,
   "metadata": {},
   "outputs": [],
   "source": [
    "# Use this code to subsample the larger dataframe to be used with seaborn grid plots\n",
    "# a=flt.pivot_table(index='Pressure[dbar]',columns='Station',values='Temperature[°C]')\n",
    "# a"
   ]
  },
  {
   "cell_type": "code",
   "execution_count": null,
   "metadata": {},
   "outputs": [],
   "source": [
    "# Regression plots\n",
    "# What is the relationsihp between TALK and S? Do you think that Alkalinity can be estimated from just salinity?\n",
    "sns.lmplot(x='Salinity[pss]',y='TALK_LIAR[µmol/kg]',data=flt)"
   ]
  },
  {
   "cell_type": "code",
   "execution_count": null,
   "metadata": {},
   "outputs": [],
   "source": [
    "sns.lmplot(x='Salinity[pss]',y='DIC_LIAR[µmol/kg]',data=flt) #Seaborn linear model plot"
   ]
  },
  {
   "cell_type": "code",
   "execution_count": null,
   "metadata": {},
   "outputs": [],
   "source": [
    "# What are these two different blobs? Plot a third variable as a color\n",
    "flt.plot.scatter(x='Salinity[pss]',y='DIC_LIAR[µmol/kg]',c='Pressure[dbar]',cmap='Purples')"
   ]
  },
  {
   "cell_type": "code",
   "execution_count": null,
   "metadata": {},
   "outputs": [],
   "source": [
    "flt_by_station=flt.groupby('Station').mean()"
   ]
  },
  {
   "cell_type": "code",
   "execution_count": null,
   "metadata": {},
   "outputs": [],
   "source": [
    "flt_by_station"
   ]
  },
  {
   "cell_type": "code",
   "execution_count": null,
   "metadata": {},
   "outputs": [],
   "source": [
    "# To make a contour plot with irregularly-spaced data, you must first define your grid\n",
    "# What should your grid look like for a section plot?\n",
    "# The y-axis should be depth, and the x-axis should be time\n",
    "xi = pd.date_range(flt['date'].min(), flt['date'].max(), freq='10D')\n",
    "yi = np.linspace(0, 2000, 201)\n",
    "# Now we need to take the oxygen data and interpolate it onto that grid using its original x's and y's\n",
    "# Griddata does not want NaNs\n",
    "flt = flt[np.isfinite(flt['Oxygen[µmol/kg]'])]\n",
    "grid = np.meshgrid(xi,yi)\n",
    "from scipy.interpolate import griddata\n",
    "grid_z = griddata((flt['date'], flt['Pressure[dbar]']), flt['Oxygen[µmol/kg]'], grid, method = 'linear')"
   ]
  },
  {
   "cell_type": "code",
   "execution_count": null,
   "metadata": {},
   "outputs": [],
   "source": [
    "# NEXT: Try to use xarray to explore float data\n",
    "# start with Ryan Abernathy's xarray lesson: \n",
    "# https://github.com/rabernat/research_computing/blob/master/content/lectures/python/xarray.ipynb\n",
    "# Play with cookie-cutter project reproducibility tools from Julius Busecke\n",
    "# Play with sea-py, mayavi\n",
    "# http://www.pyngl.ucar.edu/\n",
    "# https://docs.enthought.com/mayavi/mayavi/installation.html\n",
    "# https://www.itsonlyamodel.us/argovis-python-api-2.html#section_two\n",
    "\n",
    "# Machine Learning\n",
    "# https://agupubs.onlinelibrary.wiley.com/doi/full/10.1029/2018JC014629\n",
    "\n",
    "# importing CMIP6 data https://towardsdatascience.com/a-quick-introduction-to-cmip6-e017127a49d3"
   ]
  },
  {
   "cell_type": "code",
   "execution_count": null,
   "metadata": {},
   "outputs": [],
   "source": []
  }
 ],
 "metadata": {
  "kernelspec": {
   "display_name": "Python 3",
   "language": "python",
   "name": "python3"
  },
  "language_info": {
   "codemirror_mode": {
    "name": "ipython",
    "version": 3
   },
   "file_extension": ".py",
   "mimetype": "text/x-python",
   "name": "python",
   "nbconvert_exporter": "python",
   "pygments_lexer": "ipython3",
   "version": "3.8.5"
  }
 },
 "nbformat": 4,
 "nbformat_minor": 4
}
